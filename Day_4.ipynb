{
  "nbformat": 4,
  "nbformat_minor": 0,
  "metadata": {
    "colab": {
      "name": "Day 4",
      "provenance": [],
      "authorship_tag": "ABX9TyMcttFTHp9kJcNGrwO04aXh",
      "include_colab_link": true
    },
    "kernelspec": {
      "name": "python3",
      "display_name": "Python 3"
    },
    "language_info": {
      "name": "python"
    }
  },
  "cells": [
    {
      "cell_type": "markdown",
      "metadata": {
        "id": "view-in-github",
        "colab_type": "text"
      },
      "source": [
        "<a href=\"https://colab.research.google.com/github/karthikheyaa17/AI---Workshop-2022/blob/main/Day_4.ipynb\" target=\"_parent\"><img src=\"https://colab.research.google.com/assets/colab-badge.svg\" alt=\"Open In Colab\"/></a>"
      ]
    },
    {
      "cell_type": "code",
      "execution_count": 142,
      "metadata": {
        "colab": {
          "base_uri": "https://localhost:8080/"
        },
        "id": "1nCFoHu3O7ah",
        "outputId": "3148beaa-73bc-4d82-9fec-63c93aa0f9cc"
      },
      "outputs": [
        {
          "output_type": "stream",
          "name": "stdout",
          "text": [
            "My list: [1, 2, 3, 4]\n",
            "Numy list: [1 2 3 4]\n"
          ]
        }
      ],
      "source": [
        "import numpy as ny\n",
        "\n",
        "lt = [1, 2, 3, 4]\n",
        "rt = ny.array([1, 2, 3, 4])\n",
        "\n",
        "print(\"My list:\", lt)\n",
        "print(\"Numy list:\", rt)\n",
        "\n"
      ]
    },
    {
      "cell_type": "code",
      "source": [
        "import numpy as np\n",
        "b = np.array([0.5, 2, 3, 4, 5, 6, 7, 8, 9, 10, 11, 12, 13])\n",
        "print(b[::20])\n",
        "print(b[::2])\n",
        "print(b[::-1])\n",
        "print(b[::-2])\n",
        "print(b[10:3])\n",
        "print(b[3: 10: -2])\n",
        "\n",
        "# np.ones(4)\n",
        "\n",
        "# np.zeros(4)\n",
        "\n",
        "np.empty(4)\n",
        "\n"
      ],
      "metadata": {
        "colab": {
          "base_uri": "https://localhost:8080/"
        },
        "id": "6E4EZdTNTqeN",
        "outputId": "1b5c9006-8fdd-4c4f-e2c7-3a40e4d65c17"
      },
      "execution_count": 143,
      "outputs": [
        {
          "output_type": "stream",
          "name": "stdout",
          "text": [
            "[0.5]\n",
            "[ 0.5  3.   5.   7.   9.  11.  13. ]\n",
            "[13.  12.  11.  10.   9.   8.   7.   6.   5.   4.   3.   2.   0.5]\n",
            "[13.  11.   9.   7.   5.   3.   0.5]\n",
            "[]\n",
            "[]\n"
          ]
        },
        {
          "output_type": "execute_result",
          "data": {
            "text/plain": [
              "array([4.9e-324, 9.9e-324, 1.5e-323, 2.0e-323])"
            ]
          },
          "metadata": {},
          "execution_count": 143
        }
      ]
    },
    {
      "cell_type": "code",
      "source": [
        "a = np.array([1, 2, 3, 4, 5, 6, 7, 8, 9])\n",
        "b = np.array([[1, 2, 3], [4, 5, 6], [7, 8, 9]])\n",
        "\n",
        "b"
      ],
      "metadata": {
        "colab": {
          "base_uri": "https://localhost:8080/"
        },
        "id": "WBmmInYexRox",
        "outputId": "d92ac933-1195-4d19-83f1-82256ca72689"
      },
      "execution_count": 144,
      "outputs": [
        {
          "output_type": "execute_result",
          "data": {
            "text/plain": [
              "array([[1, 2, 3],\n",
              "       [4, 5, 6],\n",
              "       [7, 8, 9]])"
            ]
          },
          "metadata": {},
          "execution_count": 144
        }
      ]
    },
    {
      "cell_type": "code",
      "source": [
        "import random\n",
        "np.random.rand(3, 3)"
      ],
      "metadata": {
        "colab": {
          "base_uri": "https://localhost:8080/"
        },
        "id": "gw9Jcw9tyaqW",
        "outputId": "b1a73114-b8c3-43fc-80db-814c740e4dd3"
      },
      "execution_count": 145,
      "outputs": [
        {
          "output_type": "execute_result",
          "data": {
            "text/plain": [
              "array([[0.86579867, 0.59713678, 0.45091727],\n",
              "       [0.92338076, 0.58302836, 0.23128508],\n",
              "       [0.43464154, 0.35216965, 0.27087733]])"
            ]
          },
          "metadata": {},
          "execution_count": 145
        }
      ]
    },
    {
      "cell_type": "code",
      "source": [
        "a = np.array([1, 2, 3, 4, 5, 6, 7, 8, 9, 10, 11, 12])\n",
        "\n",
        "a.reshape(6, 2)"
      ],
      "metadata": {
        "colab": {
          "base_uri": "https://localhost:8080/"
        },
        "id": "cOttgeAdzACs",
        "outputId": "283574c9-2306-44c0-b7f7-1765e5d2a032"
      },
      "execution_count": 146,
      "outputs": [
        {
          "output_type": "execute_result",
          "data": {
            "text/plain": [
              "array([[ 1,  2],\n",
              "       [ 3,  4],\n",
              "       [ 5,  6],\n",
              "       [ 7,  8],\n",
              "       [ 9, 10],\n",
              "       [11, 12]])"
            ]
          },
          "metadata": {},
          "execution_count": 146
        }
      ]
    },
    {
      "cell_type": "code",
      "source": [
        "np.random.randint(1, 5, size=(4, 4))"
      ],
      "metadata": {
        "colab": {
          "base_uri": "https://localhost:8080/"
        },
        "id": "0blpmEKo0Mzm",
        "outputId": "b87bdec3-63a9-4ed5-e5cf-915f99ca22ac"
      },
      "execution_count": 147,
      "outputs": [
        {
          "output_type": "execute_result",
          "data": {
            "text/plain": [
              "array([[2, 2, 2, 1],\n",
              "       [2, 4, 3, 3],\n",
              "       [2, 2, 3, 1],\n",
              "       [2, 4, 1, 1]])"
            ]
          },
          "metadata": {},
          "execution_count": 147
        }
      ]
    },
    {
      "cell_type": "code",
      "source": [
        "a = np.array([1, 2, 3, 4, 5, 6, 7, 8, 9, 10, 11, 12])\n",
        "b = np.array([0.5, 2, 3, 4, 5, 6, 7, 8, 9, 10, 11, 12, 13])\n",
        "\n",
        "\n",
        "np.concatenate((a, b))"
      ],
      "metadata": {
        "colab": {
          "base_uri": "https://localhost:8080/"
        },
        "id": "xJmZ1mRh0qBM",
        "outputId": "1b3bf1fb-5048-41cc-a9ea-e933fa22ddd0"
      },
      "execution_count": 148,
      "outputs": [
        {
          "output_type": "execute_result",
          "data": {
            "text/plain": [
              "array([ 1. ,  2. ,  3. ,  4. ,  5. ,  6. ,  7. ,  8. ,  9. , 10. , 11. ,\n",
              "       12. ,  0.5,  2. ,  3. ,  4. ,  5. ,  6. ,  7. ,  8. ,  9. , 10. ,\n",
              "       11. , 12. , 13. ])"
            ]
          },
          "metadata": {},
          "execution_count": 148
        }
      ]
    },
    {
      "cell_type": "code",
      "source": [
        "np.append(a, b)"
      ],
      "metadata": {
        "colab": {
          "base_uri": "https://localhost:8080/"
        },
        "id": "0XoCDykj2gMQ",
        "outputId": "e93447e7-d093-463f-bd25-2dfac36f52e3"
      },
      "execution_count": 149,
      "outputs": [
        {
          "output_type": "execute_result",
          "data": {
            "text/plain": [
              "array([ 1. ,  2. ,  3. ,  4. ,  5. ,  6. ,  7. ,  8. ,  9. , 10. , 11. ,\n",
              "       12. ,  0.5,  2. ,  3. ,  4. ,  5. ,  6. ,  7. ,  8. ,  9. , 10. ,\n",
              "       11. , 12. , 13. ])"
            ]
          },
          "metadata": {},
          "execution_count": 149
        }
      ]
    },
    {
      "cell_type": "code",
      "source": [
        "a.size"
      ],
      "metadata": {
        "colab": {
          "base_uri": "https://localhost:8080/"
        },
        "id": "d-sbo_7O21tG",
        "outputId": "7419ec55-af0c-4295-9906-ce4abf685a67"
      },
      "execution_count": 150,
      "outputs": [
        {
          "output_type": "execute_result",
          "data": {
            "text/plain": [
              "12"
            ]
          },
          "metadata": {},
          "execution_count": 150
        }
      ]
    },
    {
      "cell_type": "code",
      "source": [
        "b.size"
      ],
      "metadata": {
        "colab": {
          "base_uri": "https://localhost:8080/"
        },
        "id": "7sJ9apk1235P",
        "outputId": "b71726fc-bc79-4f7e-dbe1-5cd3bb7ef9f5"
      },
      "execution_count": 151,
      "outputs": [
        {
          "output_type": "execute_result",
          "data": {
            "text/plain": [
              "13"
            ]
          },
          "metadata": {},
          "execution_count": 151
        }
      ]
    },
    {
      "cell_type": "code",
      "source": [
        "arr = np.array([[1, 2, 3], [4, 5, 6], [7, 8, 9]])\n",
        "arr.shape"
      ],
      "metadata": {
        "colab": {
          "base_uri": "https://localhost:8080/"
        },
        "id": "4IZk1D3Z29vQ",
        "outputId": "5cff7778-f28a-46e4-c3f4-67dd849e0988"
      },
      "execution_count": 152,
      "outputs": [
        {
          "output_type": "execute_result",
          "data": {
            "text/plain": [
              "(3, 3)"
            ]
          },
          "metadata": {},
          "execution_count": 152
        }
      ]
    },
    {
      "cell_type": "code",
      "source": [
        "arr.size"
      ],
      "metadata": {
        "colab": {
          "base_uri": "https://localhost:8080/"
        },
        "id": "fKzP-Nm-3miR",
        "outputId": "1085fb95-4155-46c8-e867-12af49d71868"
      },
      "execution_count": 153,
      "outputs": [
        {
          "output_type": "execute_result",
          "data": {
            "text/plain": [
              "9"
            ]
          },
          "metadata": {},
          "execution_count": 153
        }
      ]
    },
    {
      "cell_type": "code",
      "source": [
        "arr.sum()"
      ],
      "metadata": {
        "colab": {
          "base_uri": "https://localhost:8080/"
        },
        "id": "1jpK7Ht43vXH",
        "outputId": "996a4b61-cd3a-4984-c366-691be83e79fd"
      },
      "execution_count": 154,
      "outputs": [
        {
          "output_type": "execute_result",
          "data": {
            "text/plain": [
              "45"
            ]
          },
          "metadata": {},
          "execution_count": 154
        }
      ]
    },
    {
      "cell_type": "code",
      "source": [
        "arr.std()"
      ],
      "metadata": {
        "colab": {
          "base_uri": "https://localhost:8080/"
        },
        "id": "wo3uZOYi31QU",
        "outputId": "bfd8777e-98d5-47ca-80df-b7b7e9fe7693"
      },
      "execution_count": 155,
      "outputs": [
        {
          "output_type": "execute_result",
          "data": {
            "text/plain": [
              "2.581988897471611"
            ]
          },
          "metadata": {},
          "execution_count": 155
        }
      ]
    },
    {
      "cell_type": "code",
      "source": [
        "arr.var()"
      ],
      "metadata": {
        "colab": {
          "base_uri": "https://localhost:8080/"
        },
        "id": "c2bt_5Qy33Em",
        "outputId": "df15eed5-1093-4e95-933a-97c31b88acee"
      },
      "execution_count": 156,
      "outputs": [
        {
          "output_type": "execute_result",
          "data": {
            "text/plain": [
              "6.666666666666667"
            ]
          },
          "metadata": {},
          "execution_count": 156
        }
      ]
    },
    {
      "cell_type": "code",
      "source": [
        "arr.mean()"
      ],
      "metadata": {
        "colab": {
          "base_uri": "https://localhost:8080/"
        },
        "id": "Swx5igk53438",
        "outputId": "fdcbb277-d720-40d1-db84-73c9b0053098"
      },
      "execution_count": 157,
      "outputs": [
        {
          "output_type": "execute_result",
          "data": {
            "text/plain": [
              "5.0"
            ]
          },
          "metadata": {},
          "execution_count": 157
        }
      ]
    },
    {
      "cell_type": "code",
      "source": [
        "arr = np.array([7, 8, 9, 1, 2, 3, 6, 5, 4])\n",
        "\n",
        "arr.sort()\n",
        "\n",
        "arr"
      ],
      "metadata": {
        "colab": {
          "base_uri": "https://localhost:8080/"
        },
        "id": "rjZurDwF4HSP",
        "outputId": "1fd2076c-4c9f-4fc0-8888-9b7bf34137b3"
      },
      "execution_count": 158,
      "outputs": [
        {
          "output_type": "execute_result",
          "data": {
            "text/plain": [
              "array([1, 2, 3, 4, 5, 6, 7, 8, 9])"
            ]
          },
          "metadata": {},
          "execution_count": 158
        }
      ]
    },
    {
      "cell_type": "code",
      "source": [
        "arr = np.array([[[1], [1], [1]]])\n",
        "\n",
        "np.squeeze(arr)"
      ],
      "metadata": {
        "colab": {
          "base_uri": "https://localhost:8080/"
        },
        "id": "ABoUwMH14hBb",
        "outputId": "3ffcda59-1afb-45bc-d241-8bb54ec1f261"
      },
      "execution_count": 159,
      "outputs": [
        {
          "output_type": "execute_result",
          "data": {
            "text/plain": [
              "array([1, 1, 1])"
            ]
          },
          "metadata": {},
          "execution_count": 159
        }
      ]
    },
    {
      "cell_type": "code",
      "source": [
        "x = np.array([[[0], [1], [2]]])\n",
        "x.shape\n"
      ],
      "metadata": {
        "colab": {
          "base_uri": "https://localhost:8080/"
        },
        "id": "5XVUx9FK8C9M",
        "outputId": "25ad44d4-ed0f-4156-b8c6-184ac3397dd9"
      },
      "execution_count": 160,
      "outputs": [
        {
          "output_type": "execute_result",
          "data": {
            "text/plain": [
              "(1, 3, 1)"
            ]
          },
          "metadata": {},
          "execution_count": 160
        }
      ]
    },
    {
      "cell_type": "code",
      "source": [
        "np.squeeze(x)"
      ],
      "metadata": {
        "colab": {
          "base_uri": "https://localhost:8080/"
        },
        "id": "1JF5HyMD8Kkk",
        "outputId": "84e3f2dc-3c1b-4438-b45f-add61d7cd53f"
      },
      "execution_count": 161,
      "outputs": [
        {
          "output_type": "execute_result",
          "data": {
            "text/plain": [
              "array([0, 1, 2])"
            ]
          },
          "metadata": {},
          "execution_count": 161
        }
      ]
    },
    {
      "cell_type": "code",
      "source": [
        "# Create a 2D Array of random number of 4, 4\n",
        "\n",
        "np.random.randint(100, size=(4, 4))"
      ],
      "metadata": {
        "colab": {
          "base_uri": "https://localhost:8080/"
        },
        "id": "ZxqA5ZIJ9Mve",
        "outputId": "11ba8193-1f78-42d2-9279-1cda28d3f4b3"
      },
      "execution_count": 162,
      "outputs": [
        {
          "output_type": "execute_result",
          "data": {
            "text/plain": [
              "array([[79, 13, 77,  6],\n",
              "       [46, 37, 14,  0],\n",
              "       [42, 42, 17, 28],\n",
              "       [69, 55, 68, 61]])"
            ]
          },
          "metadata": {},
          "execution_count": 162
        }
      ]
    },
    {
      "cell_type": "code",
      "source": [
        "np.random.rand(16).reshape((4,4))"
      ],
      "metadata": {
        "colab": {
          "base_uri": "https://localhost:8080/"
        },
        "id": "9IAEy49U_HQN",
        "outputId": "8ec31400-4cdb-4a0f-eac0-3dc8f6284db2"
      },
      "execution_count": 163,
      "outputs": [
        {
          "output_type": "execute_result",
          "data": {
            "text/plain": [
              "array([[0.77244162, 0.54468243, 0.89866718, 0.62716241],\n",
              "       [0.78367663, 0.83362662, 0.88069579, 0.35591246],\n",
              "       [0.01986446, 0.44093399, 0.57155871, 0.11345696],\n",
              "       [0.04037314, 0.09913859, 0.75542109, 0.47405052]])"
            ]
          },
          "metadata": {},
          "execution_count": 163
        }
      ]
    },
    {
      "cell_type": "code",
      "source": [
        "np.random.rand(4,4)"
      ],
      "metadata": {
        "colab": {
          "base_uri": "https://localhost:8080/"
        },
        "id": "e7mV0xnG_7wp",
        "outputId": "0e0d68d4-44e2-408f-eac6-43a405b69a73"
      },
      "execution_count": 164,
      "outputs": [
        {
          "output_type": "execute_result",
          "data": {
            "text/plain": [
              "array([[0.98741873, 0.39326529, 0.80631783, 0.34341129],\n",
              "       [0.01369857, 0.35520907, 0.42382313, 0.24085713],\n",
              "       [0.57210607, 0.46771444, 0.84496205, 0.72895945],\n",
              "       [0.64895922, 0.89081374, 0.8275468 , 0.3637636 ]])"
            ]
          },
          "metadata": {},
          "execution_count": 164
        }
      ]
    },
    {
      "cell_type": "code",
      "source": [
        "np.random.rand(4, 4, 4)"
      ],
      "metadata": {
        "colab": {
          "base_uri": "https://localhost:8080/"
        },
        "id": "hoc5Csw3ATIG",
        "outputId": "ba3ed73b-4314-4e0a-a0eb-799e1457612f"
      },
      "execution_count": 165,
      "outputs": [
        {
          "output_type": "execute_result",
          "data": {
            "text/plain": [
              "array([[[0.90156732, 0.19176352, 0.51945187, 0.82863115],\n",
              "        [0.74583438, 0.68801392, 0.10442814, 0.20356331],\n",
              "        [0.78939197, 0.32042117, 0.21407318, 0.29050172],\n",
              "        [0.24864983, 0.33670911, 0.56078762, 0.65510198]],\n",
              "\n",
              "       [[0.99062779, 0.00288843, 0.63401918, 0.73502292],\n",
              "        [0.51598536, 0.79650921, 0.64260465, 0.6237932 ],\n",
              "        [0.81919549, 0.90728462, 0.32524262, 0.87019795],\n",
              "        [0.87022665, 0.38216385, 0.58902765, 0.3418794 ]],\n",
              "\n",
              "       [[0.16648845, 0.22854914, 0.96346919, 0.13553268],\n",
              "        [0.00659052, 0.54578454, 0.60115639, 0.57720216],\n",
              "        [0.42655878, 0.5446442 , 0.51897431, 0.36848758],\n",
              "        [0.14843701, 0.57359859, 0.97412804, 0.70888466]],\n",
              "\n",
              "       [[0.35691131, 0.22161262, 0.22146918, 0.61234693],\n",
              "        [0.05225798, 0.45520914, 0.52041673, 0.49596467],\n",
              "        [0.79297419, 0.52515438, 0.16821999, 0.14082533],\n",
              "        [0.27068701, 0.14256503, 0.21305755, 0.80247767]]])"
            ]
          },
          "metadata": {},
          "execution_count": 165
        }
      ]
    },
    {
      "cell_type": "code",
      "source": [
        "np.ones((5, 5))"
      ],
      "metadata": {
        "colab": {
          "base_uri": "https://localhost:8080/"
        },
        "id": "FTVpQ6whAdZl",
        "outputId": "e90ec10d-b5af-4a05-e345-cfe477523144"
      },
      "execution_count": 166,
      "outputs": [
        {
          "output_type": "execute_result",
          "data": {
            "text/plain": [
              "array([[1., 1., 1., 1., 1.],\n",
              "       [1., 1., 1., 1., 1.],\n",
              "       [1., 1., 1., 1., 1.],\n",
              "       [1., 1., 1., 1., 1.],\n",
              "       [1., 1., 1., 1., 1.]])"
            ]
          },
          "metadata": {},
          "execution_count": 166
        }
      ]
    },
    {
      "cell_type": "code",
      "source": [
        "np.zeros((5, 5))"
      ],
      "metadata": {
        "colab": {
          "base_uri": "https://localhost:8080/"
        },
        "id": "frx6I9uZAoAU",
        "outputId": "46d4075a-8fd3-4f64-eb80-292f3c6021d6"
      },
      "execution_count": 167,
      "outputs": [
        {
          "output_type": "execute_result",
          "data": {
            "text/plain": [
              "array([[0., 0., 0., 0., 0.],\n",
              "       [0., 0., 0., 0., 0.],\n",
              "       [0., 0., 0., 0., 0.],\n",
              "       [0., 0., 0., 0., 0.],\n",
              "       [0., 0., 0., 0., 0.]])"
            ]
          },
          "metadata": {},
          "execution_count": 167
        }
      ]
    },
    {
      "cell_type": "code",
      "source": [
        "# Concatenate\n",
        "# Create a 2D Array of random number of (4, 4)\n",
        "\n",
        "random1 = np.random.rand(2, 2)\n",
        "random2 = np.random.rand(2, 2)\n",
        "\n",
        "random1.shape"
      ],
      "metadata": {
        "colab": {
          "base_uri": "https://localhost:8080/"
        },
        "id": "K-y4qwIOBXf_",
        "outputId": "6f4e4e85-6852-4370-b3eb-787f20c52eef"
      },
      "execution_count": 168,
      "outputs": [
        {
          "output_type": "execute_result",
          "data": {
            "text/plain": [
              "(2, 2)"
            ]
          },
          "metadata": {},
          "execution_count": 168
        }
      ]
    },
    {
      "cell_type": "code",
      "source": [
        "random2.shape"
      ],
      "metadata": {
        "colab": {
          "base_uri": "https://localhost:8080/"
        },
        "id": "qEiLt8gfB8r4",
        "outputId": "c3a97cc2-fe58-4927-b4af-0a7156030000"
      },
      "execution_count": 169,
      "outputs": [
        {
          "output_type": "execute_result",
          "data": {
            "text/plain": [
              "(2, 2)"
            ]
          },
          "metadata": {},
          "execution_count": 169
        }
      ]
    },
    {
      "cell_type": "code",
      "source": [
        "reshape = np.concatenate((random1, random2))\n",
        "reshape.reshape(2, 4)"
      ],
      "metadata": {
        "colab": {
          "base_uri": "https://localhost:8080/"
        },
        "id": "uVrhqyw1B-Fg",
        "outputId": "a22939f8-8897-4388-dbf1-5ec997d1b845"
      },
      "execution_count": 170,
      "outputs": [
        {
          "output_type": "execute_result",
          "data": {
            "text/plain": [
              "array([[0.74205026, 0.36801066, 0.71800072, 0.15552245],\n",
              "       [0.19823852, 0.85880796, 0.73180463, 0.8578    ]])"
            ]
          },
          "metadata": {},
          "execution_count": 170
        }
      ]
    },
    {
      "cell_type": "code",
      "source": [
        "y = np.concatenate((random1, random2), axis = 1)\n",
        "y"
      ],
      "metadata": {
        "colab": {
          "base_uri": "https://localhost:8080/"
        },
        "id": "JzQUD_lrEHkf",
        "outputId": "0bcb3413-6d70-4405-9276-cb93791abee9"
      },
      "execution_count": 184,
      "outputs": [
        {
          "output_type": "execute_result",
          "data": {
            "text/plain": [
              "array([[0.74205026, 0.36801066, 0.19823852, 0.85880796],\n",
              "       [0.71800072, 0.15552245, 0.73180463, 0.8578    ]])"
            ]
          },
          "metadata": {},
          "execution_count": 184
        }
      ]
    },
    {
      "cell_type": "code",
      "source": [
        "y.shape"
      ],
      "metadata": {
        "colab": {
          "base_uri": "https://localhost:8080/"
        },
        "id": "Enva90yiFPDL",
        "outputId": "b1c5cf67-d675-4d29-9d1b-aec4c7870152"
      },
      "execution_count": 183,
      "outputs": [
        {
          "output_type": "execute_result",
          "data": {
            "text/plain": [
              "(2, 4)"
            ]
          },
          "metadata": {},
          "execution_count": 183
        }
      ]
    },
    {
      "cell_type": "code",
      "source": [
        "round(np.concatenate((random1, random2), axis = 1).sum(), 2)"
      ],
      "metadata": {
        "colab": {
          "base_uri": "https://localhost:8080/"
        },
        "id": "1OBUb1giF0Ou",
        "outputId": "98d5af1e-3ec2-48e2-ec91-e44114c6d83e"
      },
      "execution_count": 178,
      "outputs": [
        {
          "output_type": "execute_result",
          "data": {
            "text/plain": [
              "4.63"
            ]
          },
          "metadata": {},
          "execution_count": 178
        }
      ]
    },
    {
      "cell_type": "code",
      "source": [
        "x = np.random.randint(100, size=(5, 5))\n",
        "x"
      ],
      "metadata": {
        "colab": {
          "base_uri": "https://localhost:8080/"
        },
        "id": "wfDzXrtkGaKr",
        "outputId": "4be2edc1-7da0-44c8-ee80-56750e1fb776"
      },
      "execution_count": 195,
      "outputs": [
        {
          "output_type": "execute_result",
          "data": {
            "text/plain": [
              "array([[39, 55, 97, 43, 80],\n",
              "       [97, 68, 39, 16, 18],\n",
              "       [65, 14, 15,  1, 58],\n",
              "       [59, 62, 15, 18, 43],\n",
              "       [59, 51, 11, 56, 45]])"
            ]
          },
          "metadata": {},
          "execution_count": 195
        }
      ]
    },
    {
      "cell_type": "code",
      "source": [
        "x[:,:]"
      ],
      "metadata": {
        "colab": {
          "base_uri": "https://localhost:8080/"
        },
        "id": "yQxCU3C4HnE5",
        "outputId": "5adc3e68-1aa0-43ce-dcfc-5f4130ae25a0"
      },
      "execution_count": 196,
      "outputs": [
        {
          "output_type": "execute_result",
          "data": {
            "text/plain": [
              "array([[39, 55, 97, 43, 80],\n",
              "       [97, 68, 39, 16, 18],\n",
              "       [65, 14, 15,  1, 58],\n",
              "       [59, 62, 15, 18, 43],\n",
              "       [59, 51, 11, 56, 45]])"
            ]
          },
          "metadata": {},
          "execution_count": 196
        }
      ]
    },
    {
      "cell_type": "code",
      "source": [
        "x[0, :]"
      ],
      "metadata": {
        "colab": {
          "base_uri": "https://localhost:8080/"
        },
        "id": "wJUjko0_Hphk",
        "outputId": "03a28b48-feff-4314-94e5-2bcf182efae7"
      },
      "execution_count": 197,
      "outputs": [
        {
          "output_type": "execute_result",
          "data": {
            "text/plain": [
              "array([39, 55, 97, 43, 80])"
            ]
          },
          "metadata": {},
          "execution_count": 197
        }
      ]
    },
    {
      "cell_type": "code",
      "source": [
        "x[1, :]"
      ],
      "metadata": {
        "colab": {
          "base_uri": "https://localhost:8080/"
        },
        "id": "0QDPe3wJHvM9",
        "outputId": "9828cc9f-d7ae-4c0f-ae5d-058f53394dda"
      },
      "execution_count": 198,
      "outputs": [
        {
          "output_type": "execute_result",
          "data": {
            "text/plain": [
              "array([97, 68, 39, 16, 18])"
            ]
          },
          "metadata": {},
          "execution_count": 198
        }
      ]
    },
    {
      "cell_type": "code",
      "source": [
        "# Identity Matrix\n",
        "\n",
        "r1 = np.ones((5,5))\n",
        "\n",
        "count = 0\n",
        "while count <= 4:\n",
        "  r1[count][count] = 0\n",
        "  count+=1\n",
        "\n",
        "r1"
      ],
      "metadata": {
        "colab": {
          "base_uri": "https://localhost:8080/"
        },
        "id": "EtzsPnCtH3uB",
        "outputId": "7fccb558-039b-4ac9-a7bd-89414d61bfc1"
      },
      "execution_count": 215,
      "outputs": [
        {
          "output_type": "execute_result",
          "data": {
            "text/plain": [
              "array([[0., 1., 1., 1., 1.],\n",
              "       [1., 0., 1., 1., 1.],\n",
              "       [1., 1., 0., 1., 1.],\n",
              "       [1., 1., 1., 0., 1.],\n",
              "       [1., 1., 1., 1., 0.]])"
            ]
          },
          "metadata": {},
          "execution_count": 215
        }
      ]
    },
    {
      "cell_type": "code",
      "source": [
        "r1.sum(axis = 1)"
      ],
      "metadata": {
        "colab": {
          "base_uri": "https://localhost:8080/"
        },
        "id": "AqazmdVFMxBB",
        "outputId": "6812cb1c-0a6a-4de1-99a8-dea3ee23a1ae"
      },
      "execution_count": 220,
      "outputs": [
        {
          "output_type": "execute_result",
          "data": {
            "text/plain": [
              "array([4., 4., 4., 4., 4.])"
            ]
          },
          "metadata": {},
          "execution_count": 220
        }
      ]
    },
    {
      "cell_type": "code",
      "source": [
        "x1 = np.random.randint(1, 26, size = (5, 5))\n",
        "x1"
      ],
      "metadata": {
        "colab": {
          "base_uri": "https://localhost:8080/"
        },
        "id": "3h4wX_uTNRU4",
        "outputId": "9ed9fbd3-7d67-4716-bfb7-4955962293d4"
      },
      "execution_count": 222,
      "outputs": [
        {
          "output_type": "execute_result",
          "data": {
            "text/plain": [
              "array([[21, 10,  7,  3, 15],\n",
              "       [12, 25, 15, 11, 24],\n",
              "       [ 4, 23, 16,  5, 11],\n",
              "       [11,  7, 16, 23, 22],\n",
              "       [22, 25, 25,  6, 10]])"
            ]
          },
          "metadata": {},
          "execution_count": 222
        }
      ]
    },
    {
      "cell_type": "code",
      "source": [
        "x1.sum(axis = 0)"
      ],
      "metadata": {
        "colab": {
          "base_uri": "https://localhost:8080/"
        },
        "id": "VIcoOwxtNiLw",
        "outputId": "86496f03-f4a1-4efb-9889-88e8b9673804"
      },
      "execution_count": 228,
      "outputs": [
        {
          "output_type": "execute_result",
          "data": {
            "text/plain": [
              "array([70, 90, 79, 48, 82])"
            ]
          },
          "metadata": {},
          "execution_count": 228
        }
      ]
    },
    {
      "cell_type": "code",
      "source": [
        "x1.mean(axis = 0)"
      ],
      "metadata": {
        "colab": {
          "base_uri": "https://localhost:8080/"
        },
        "id": "UCTLERJ9N7Z9",
        "outputId": "81780a51-862c-4ee9-fcc4-5d9ad226e8c8"
      },
      "execution_count": 232,
      "outputs": [
        {
          "output_type": "execute_result",
          "data": {
            "text/plain": [
              "array([14. , 18. , 15.8,  9.6, 16.4])"
            ]
          },
          "metadata": {},
          "execution_count": 232
        }
      ]
    },
    {
      "cell_type": "code",
      "source": [
        "x1.var(axis = 0)"
      ],
      "metadata": {
        "colab": {
          "base_uri": "https://localhost:8080/"
        },
        "id": "F2qaBtVCOAww",
        "outputId": "635e3c48-b502-4fd0-9fa1-9334274d4fc6"
      },
      "execution_count": 233,
      "outputs": [
        {
          "output_type": "execute_result",
          "data": {
            "text/plain": [
              "array([45.2 , 61.6 , 32.56, 51.84, 32.24])"
            ]
          },
          "metadata": {},
          "execution_count": 233
        }
      ]
    },
    {
      "cell_type": "code",
      "source": [
        "x1.std(axis = 0)"
      ],
      "metadata": {
        "colab": {
          "base_uri": "https://localhost:8080/"
        },
        "id": "VMiG2O5dOEJY",
        "outputId": "f6cb2009-f0c7-4168-859c-181a59d1db05"
      },
      "execution_count": 234,
      "outputs": [
        {
          "output_type": "execute_result",
          "data": {
            "text/plain": [
              "array([6.72309453, 7.84856675, 5.70613705, 7.2       , 5.67802783])"
            ]
          },
          "metadata": {},
          "execution_count": 234
        }
      ]
    },
    {
      "cell_type": "code",
      "source": [
        "# explore\n"
      ],
      "metadata": {
        "id": "z1UqwnPgOSXa"
      },
      "execution_count": null,
      "outputs": []
    }
  ]
}