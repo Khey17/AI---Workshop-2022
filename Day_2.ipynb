{
  "nbformat": 4,
  "nbformat_minor": 0,
  "metadata": {
    "colab": {
      "name": "Day - 2",
      "provenance": [],
      "authorship_tag": "ABX9TyOtGfxwuaTk3yc98ZT51NN9",
      "include_colab_link": true
    },
    "kernelspec": {
      "name": "python3",
      "display_name": "Python 3"
    },
    "language_info": {
      "name": "python"
    }
  },
  "cells": [
    {
      "cell_type": "markdown",
      "metadata": {
        "id": "view-in-github",
        "colab_type": "text"
      },
      "source": [
        "<a href=\"https://colab.research.google.com/github/karthikheyaa17/AI---Workshop-2022/blob/main/Day_2.ipynb\" target=\"_parent\"><img src=\"https://colab.research.google.com/assets/colab-badge.svg\" alt=\"Open In Colab\"/></a>"
      ]
    },
    {
      "cell_type": "code",
      "execution_count": 33,
      "metadata": {
        "colab": {
          "base_uri": "https://localhost:8080/",
          "height": 339
        },
        "id": "Sn-1-c2MaSQO",
        "outputId": "ffa7f9fe-fc6a-4bd4-c4b6-1bf56b533ed2"
      },
      "outputs": [
        {
          "name": "stdout",
          "output_type": "stream",
          "text": [
            "34\n",
            "Input: 1\n",
            "Input: 1\n",
            "Input: 1\n",
            "Input: 1\n",
            "Input: \n"
          ]
        },
        {
          "output_type": "error",
          "ename": "ValueError",
          "evalue": "ignored",
          "traceback": [
            "\u001b[0;31m---------------------------------------------------------------------------\u001b[0m",
            "\u001b[0;31mValueError\u001b[0m                                Traceback (most recent call last)",
            "\u001b[0;32m<ipython-input-33-82eb2d88e591>\u001b[0m in \u001b[0;36m<module>\u001b[0;34m()\u001b[0m\n\u001b[1;32m     46\u001b[0m \u001b[0;34m\u001b[0m\u001b[0m\n\u001b[1;32m     47\u001b[0m \u001b[0;32mfor\u001b[0m \u001b[0mi\u001b[0m \u001b[0;32min\u001b[0m \u001b[0mrange\u001b[0m\u001b[0;34m(\u001b[0m\u001b[0;36m10\u001b[0m\u001b[0;34m)\u001b[0m\u001b[0;34m:\u001b[0m\u001b[0;34m\u001b[0m\u001b[0;34m\u001b[0m\u001b[0m\n\u001b[0;32m---> 48\u001b[0;31m   \u001b[0mrow\u001b[0m \u001b[0;34m=\u001b[0m \u001b[0mint\u001b[0m\u001b[0;34m(\u001b[0m\u001b[0minput\u001b[0m\u001b[0;34m(\u001b[0m\u001b[0;34m\"Input: \"\u001b[0m\u001b[0;34m)\u001b[0m\u001b[0;34m)\u001b[0m\u001b[0;34m\u001b[0m\u001b[0;34m\u001b[0m\u001b[0m\n\u001b[0m\u001b[1;32m     49\u001b[0m   \u001b[0mj\u001b[0m \u001b[0;34m=\u001b[0m \u001b[0mrow\u001b[0m \u001b[0;34m-\u001b[0m \u001b[0;36m1\u001b[0m\u001b[0;34m\u001b[0m\u001b[0;34m\u001b[0m\u001b[0m\n\u001b[1;32m     50\u001b[0m   \u001b[0mcolumn\u001b[0m \u001b[0;34m=\u001b[0m \u001b[0mint\u001b[0m\u001b[0;34m(\u001b[0m\u001b[0minput\u001b[0m\u001b[0;34m(\u001b[0m\u001b[0;34m\"Input: \"\u001b[0m\u001b[0;34m)\u001b[0m\u001b[0;34m)\u001b[0m\u001b[0;34m\u001b[0m\u001b[0;34m\u001b[0m\u001b[0m\n",
            "\u001b[0;31mValueError\u001b[0m: invalid literal for int() with base 10: ''"
          ]
        }
      ],
      "source": [
        "def fibonacci(n):\n",
        "  if n <= 0:\n",
        "    print(\"Invalid Input!\")\n",
        "  elif n == 1:\n",
        "    return 0\n",
        "  elif n == 2:\n",
        "    return 1\n",
        "  else:\n",
        "   return fibonacci(n-1) + fibonacci(n-2)\n",
        "\n",
        "print(fibonacci(10))\n",
        "\n",
        "import random\n",
        "\n",
        "row1 = [\"-\", \"-\", \"-\"]\n",
        "row2 = [\"-\", \"-\", \"-\"]\n",
        "row3 = [\"-\", \"-\", \"-\"]\n",
        "\n",
        "list = [row1, row2, row3]\n",
        "\n",
        "def Matrix():\n",
        "  for i in range(3):\n",
        "    print(\" \".join(list[i]))\n",
        "\n",
        "# while system != user:\n",
        "#   i = input(\"horizontal: \")\n",
        "#   j = input(\"vertical: \")\n",
        "#   if Matrix[i][j] == user:\n",
        "#     i = random.randint(2)\n",
        "#     j = random.randint(2)\n",
        "#     Matrix[i] = random.\n",
        "\n",
        "def x(r, c):\n",
        "  list[r][c] = \"x\"\n",
        "def o(r, c):\n",
        "  list[r][c] = \"o\"\n",
        "\n",
        "user = input(\"Enter 'x' or 'o': \")\n",
        "\n",
        "row = int(input(\"Enter an integer b/w 1-3: \"))\n",
        "column = int(input(\"Enter an integer b/w 1-3: \"))\n",
        "\n",
        "if user == \"x\":\n",
        "  x(row, column)\n",
        "else:\n",
        "  o(row, column)\n",
        "\n",
        "\n",
        "\n",
        "\n",
        "\n",
        "\n",
        "\n",
        "\n",
        "# if list[0][0] == \"x\" and list[0][1] == \"x\" and list[0][2] == \"x\":\n",
        "#   print(\"You win!🥳\")\n",
        "# elif list[1][0] == \"x\" and list[1][1] == \"x\" and list[1][2] == \"x\":\n",
        "#   print(\"You win!🥳\")\n",
        "# elif list[2][0] == \"x\" and list[2][1] == \"x\" and list[2][2] == \"x\":\n",
        "#   print(\"You win!🥳\")\n",
        "# elif list[0][0] == \"x\" and list[1][1] == \"x\" and list[2][2] == \"x\":\n",
        "#   print(\"You win!🥳\")\n",
        "# elif list[0][2] == \"x\" and list[1][1] == \"x\" and list[2][0] == \"x\":\n",
        "#   print(\"You win!🥳\")\n",
        "# elif list[0][0] == \"x\" and list[1][0] == \"x\" and list[2][0] == \"x\":\n",
        "#   print(\"You win!🥳\")\n",
        "# elif list[0][1] == \"x\" and list[1][1] == \"x\" and list[2][1] == \"x\":\n",
        "#   print(\"You win!🥳\")\n",
        "# elif list[0][2] == \"x\" and list[1][2] == \"x\" and list[2][2] == \"x\":\n",
        "#   print(\"You win!🥳\")\n",
        "# else:\n",
        "#   print(\"You lose!☠️\")\n",
        "\n",
        "\n",
        "\n",
        "\n",
        "\n",
        "\n",
        "\n",
        "\n",
        "\n",
        "\n",
        "\n",
        "\n"
      ]
    }
  ]
}